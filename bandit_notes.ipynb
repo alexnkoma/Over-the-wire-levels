{
 "cells": [
  {
   "cell_type": "markdown",
   "id": "1fd810b6-b042-4654-98b2-cec0d72a620b",
   "metadata": {},
   "source": [
    "# Bandit"
   ]
  },
  {
   "cell_type": "markdown",
   "id": "5c6f22b8-e297-4650-bf62-a4fa94bda93a",
   "metadata": {},
   "source": [
    "DO NOT RUN THIS NOTEBOOK!!\n",
    "\n",
    "These are just notes on how i resolved the levels in case i need to review any method later"
   ]
  },
  {
   "cell_type": "markdown",
   "id": "1e9e6604-27d3-4f11-b121-55fbe19c86c8",
   "metadata": {},
   "source": [
    "#### SSH connections"
   ]
  },
  {
   "cell_type": "code",
   "execution_count": null,
   "id": "8c46c811-3781-48fb-b3cd-6609af31093d",
   "metadata": {},
   "outputs": [],
   "source": [
    "ssh <username>@<host> -p <port>\n",
    "example: ssh bandit1@bandit.labs.overthewire.org -p 2220"
   ]
  },
  {
   "cell_type": "markdown",
   "id": "50077de9-a701-4f0c-ab2e-26f399c6dff0",
   "metadata": {},
   "source": [
    "Level 1"
   ]
  },
  {
   "cell_type": "code",
   "execution_count": null,
   "id": "c8017c11-2632-4d44-b444-c483639a0d26",
   "metadata": {},
   "outputs": [],
   "source": [
    "ssh bandit1@bandit.labs.overthewire.org -p 2220\n",
    "cat readme"
   ]
  },
  {
   "cell_type": "markdown",
   "id": "658cf11a-d956-4a65-a513-2012cd12ee39",
   "metadata": {},
   "source": [
    "Level 2"
   ]
  },
  {
   "cell_type": "code",
   "execution_count": null,
   "id": "8910d119-4550-44a0-a397-dbcf04210ae7",
   "metadata": {},
   "outputs": [],
   "source": [
    "ssh bandit2@...\n",
    "cat spa<tab>\n",
    "# or use \\ before spaces in name"
   ]
  },
  {
   "cell_type": "markdown",
   "id": "32b8bd66-a3d1-4581-8df8-7c86e61b83fa",
   "metadata": {},
   "source": [
    "Level 3"
   ]
  },
  {
   "cell_type": "code",
   "execution_count": null,
   "id": "64ad4fa7-ba4d-4b53-9a39-2ff10548f39b",
   "metadata": {},
   "outputs": [],
   "source": [
    "ssh bandit3@...\n",
    "ls -la\n",
    "cat <hidden file>"
   ]
  },
  {
   "cell_type": "markdown",
   "id": "95e8bbac-9a20-4eba-9478-dc2df79264a6",
   "metadata": {},
   "source": [
    "Level 4"
   ]
  },
  {
   "cell_type": "code",
   "execution_count": null,
   "id": "a2a4c611-8ede-4bde-8a23-79ef3e236dc2",
   "metadata": {},
   "outputs": [],
   "source": [
    "ssh bandit4@...\n",
    "cat <several files>"
   ]
  }
 ],
 "metadata": {
  "kernelspec": {
   "display_name": "Python 3 (ipykernel)",
   "language": "python",
   "name": "python3"
  },
  "language_info": {
   "codemirror_mode": {
    "name": "ipython",
    "version": 3
   },
   "file_extension": ".py",
   "mimetype": "text/x-python",
   "name": "python",
   "nbconvert_exporter": "python",
   "pygments_lexer": "ipython3",
   "version": "3.9.12"
  }
 },
 "nbformat": 4,
 "nbformat_minor": 5
}
